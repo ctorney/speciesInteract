{
 "cells": [
  {
   "cell_type": "code",
   "execution_count": 1,
   "metadata": {
    "collapsed": false
   },
   "outputs": [],
   "source": [
    "import pymc,imp\n",
    "from pymc import MAP"
   ]
  },
  {
   "cell_type": "markdown",
   "metadata": {},
   "source": [
    "Basic model - correlated random walk\n",
    "====================\n",
    "parameters\n",
    "-------------- \n",
    "$\\rho_m$ - Cauchy parameter that specifies degree of correlation between successive steps"
   ]
  },
  {
   "cell_type": "code",
   "execution_count": 5,
   "metadata": {
    "collapsed": false
   },
   "outputs": [
    {
     "name": "stdout",
     "output_type": "stream",
     "text": [
      "-55995.10270631207\n",
      "-55985.797691\n",
      "0.9254077911376962\n"
     ]
    }
   ],
   "source": [
    "import corRandomWalk\n",
    "\n",
    "CRW = MAP(corRandomWalk)\n",
    "CRW.fit(method ='fmin', iterlim=100000, tol=.000001)\n",
    "\n",
    "print(CRW.AIC)\n",
    "print(CRW.BIC)\n",
    "print(CRW.rho_m.value) \n"
   ]
  },
  {
   "cell_type": "markdown",
   "metadata": {},
   "source": [
    "Environment model\n",
    "==========\n",
    "parameters\n",
    "-----------\n",
    "$\\rho_m$ - Cauchy parameter that specifies degree of correlation between successive steps\n",
    "\n",
    "$\\rho_e$ - parameter that relates assumed environmental features to heading\n",
    "\n",
    "$\\beta$ - relative weighting of Cauchy distributions"
   ]
  },
  {
   "cell_type": "code",
   "execution_count": 3,
   "metadata": {
    "collapsed": false
   },
   "outputs": [
    {
     "name": "stdout",
     "output_type": "stream",
     "text": [
      "-59636.308329306376\n",
      "-59608.3932834\n",
      "0.9303799390525367\n",
      "0.947419287851791\n",
      "0.10112854254530032\n"
     ]
    }
   ],
   "source": [
    "import environment\n",
    "\n",
    "E = MAP(environment)\n",
    "E.fit(method ='fmin', iterlim=100000, tol=.000001)\n",
    "print(E.AIC)\n",
    "print(E.BIC)\n",
    "\n",
    "print(E.rho_m.value) \n",
    "print(E.rho_e.value) \n",
    "print(E.beta.value)\n"
   ]
  },
  {
   "cell_type": "markdown",
   "metadata": {},
   "source": [
    "Social models\n",
    "========\n",
    "\n",
    "All models use the following parameters\n",
    "\n",
    "$\\rho_s$ - bias in Caucy distribution (how predictive of movement step is social vector)\n",
    "\n",
    "$\\rho_m$ - Cauchy parameter that specifies degree of correlation between successive steps\n",
    "\n",
    "$\\rho_e$ - parameter that relates assumed environmental features to heading\n",
    "\n",
    "$\\alpha$ - relative weighting of social to env/persistence distributions\n",
    "\n",
    "$\\beta$ - relative weighting of env and persistence distributions\n"
   ]
  },
  {
   "cell_type": "markdown",
   "metadata": {},
   "source": [
    "Social interaction rules\n",
    "=============\n",
    "\n",
    "Model 1\n",
    "--------\n",
    "\n",
    "Social vector is the average of relative positions to all neighbours within a constant interaction range\n",
    "\n",
    "$I_D$ is the maximum interaction distance\n",
    "\n",
    "$I_A$ is the maximum interaction angle either side of the centre of the animal\n",
    "\n"
   ]
  },
  {
   "cell_type": "code",
   "execution_count": 4,
   "metadata": {
    "collapsed": false
   },
   "outputs": [
    {
     "name": "stdout",
     "output_type": "stream",
     "text": [
      "-7060.30872471717\n",
      "-7025.2964506\n",
      "--------\n",
      "0.9704037267217485\n",
      "0.47729659143944914\n",
      "--------\n",
      "4.602159726575004\n",
      "0.21949027239165267\n",
      "1.3509415559765938\n"
     ]
    }
   ],
   "source": [
    "import constantModel\n",
    "imp.reload(constantModel)\n",
    "CM = MAP(constantModel)\n",
    "CM.fit()#method ='fmin', iterlim=100000, tol=.00001)\n",
    "print(CM.AIC)\n",
    "print(CM.BIC)\n",
    "print('--------')\n",
    "print(CM.rho_s.value)\n",
    "print(CM.alpha.value) \n",
    "print('--------')\n",
    "print(CM.interaction_length.value)\n",
    "print(CM.interaction_angle.value)\n",
    "print(CM.ignore_length.value)"
   ]
  },
  {
   "cell_type": "markdown",
   "metadata": {},
   "source": [
    "Model 2\n",
    "--------\n",
    "\n",
    "Social vector is the weighted average of relative positions to all neighbours and their relative headings within two constant interaction ranges\n",
    "\n",
    "$At_D$ is the maximum attraction distance\n",
    "\n",
    "$At_A$ is the maximum attraction angle either side of the centre of the animal\n",
    "\n",
    "$Al_D$ is the maximum alignment distance\n",
    "\n",
    "$Al_A$ is the maximum alignment angle either side of the centre of the animal\n",
    "\n",
    "$Al_W$ is the relative weight of attraction and alignment\n",
    "\n",
    "\n"
   ]
  },
  {
   "cell_type": "code",
   "execution_count": 1,
   "metadata": {
    "collapsed": false
   },
   "outputs": [
    {
     "name": "stdout",
     "output_type": "stream",
     "text": [
      "-6814.9977845013955\n",
      "-6772.98305556\n",
      "--------\n",
      "0.954541614210813\n",
      "0.3983605111883104\n",
      "--------\n",
      "15.062487027196758\n",
      "0.18948594648739225\n",
      "0.6669687170568354\n"
     ]
    }
   ],
   "source": [
    "import constantModelAlign\n",
    "import imp\n",
    "import pymc \n",
    "from pymc import MAP\n",
    "imp.reload(constantModelAlign)\n",
    "\n",
    "CMA = MAP(constantModelAlign)\n",
    "CMA.fit()#method ='fmin', iterlim=100000, tol=.000001)\n",
    "print(CMA.AIC)\n",
    "print(CMA.BIC)\n",
    "print('--------')\n",
    "print(CMA.rho_s.value)\n",
    "print(CMA.alpha.value) \n",
    "print('--------')\n",
    "print(CMA.attract_length.value)\n",
    "print(CMA.attract_angle.value)\n",
    "print(CMA.align_weight.value)\n"
   ]
  },
  {
   "cell_type": "markdown",
   "metadata": {},
   "source": [
    "Model 3\n",
    "--------\n",
    "\n",
    "Social vector is the average of relative positions to all neighbours weighted according to an exponential decay\n",
    "\n",
    "$I_A$ is the maximum attraction angle either side of the centre of the animal\n",
    "\n",
    "The weighting given to each neighbour is \n",
    "\n",
    "$\\omega_i =  \\exp\\left(-\\left(\\frac{D}{I_D}\\right)^\\gamma\\right)$\n",
    "\n",
    "$\\gamma$ decay exponent\n",
    "\n",
    "$I_D$ peak distance\n",
    "\n"
   ]
  },
  {
   "cell_type": "code",
   "execution_count": 3,
   "metadata": {
    "collapsed": false
   },
   "outputs": [
    {
     "name": "stdout",
     "output_type": "stream",
     "text": [
      "-3043.4880189194964\n",
      "-2995.48760102\n",
      "18.717164040281006\n",
      "6.532103293315506\n",
      "0.1990381993020443\n",
      "0.9720751428425423\n",
      "0.3296462783238932\n"
     ]
    }
   ],
   "source": [
    "import decayModel\n",
    "imp.reload(decayModel)\n",
    "DM = MAP(decayModel)\n",
    "DM.fit(method ='fmin', iterlim=100000, tol=.000001)\n",
    "print(DM.AIC)\n",
    "print(DM.BIC)\n",
    "\n",
    "print(DM.decay_exponent.value)\n",
    "print(DM.interaction_length.value)\n",
    "print(DM.interaction_angle.value)\n",
    "\n",
    "print(DM.rho_s.value)\n",
    "#print(DM.rho_m.value) \n",
    "#print(DM.rho_e.value) \n",
    "print(DM.alpha.value) \n",
    "#print(DM.beta.value)\n"
   ]
  },
  {
   "cell_type": "markdown",
   "metadata": {},
   "source": [
    "Model 4\n",
    "--------\n",
    "\n",
    "Social vector is the weighted average of relative positions to all neighbours and their relative headings within two constant interaction ranges, both weighted with an exponential decay according to distance\n",
    "\n",
    "\n",
    "\n",
    "$At_A$ is the maximum attraction angle either side of the centre of the animal\n",
    "\n",
    "\n",
    "\n",
    "$Al_A$ is the maximum alignment angle either side of the centre of the animal\n",
    "\n",
    "$Al_W$ is the relative weight of attraction and alignment\n",
    "\n",
    "The weighting given to each neighbour is \n",
    "\n",
    "$\\omega_i =  \\exp\\left(-\\left(\\frac{D_i}{At_D}\\right)^{\\gamma_{At}}\\right)$\n",
    "\n",
    "$\\gamma$ decay exponent\n",
    "\n",
    "$At_D$ is the peak attraction distance\n",
    "$Al_D$ is the peak alignment distance"
   ]
  },
  {
   "cell_type": "code",
   "execution_count": 75,
   "metadata": {
    "collapsed": false
   },
   "outputs": [
    {
     "name": "stdout",
     "output_type": "stream",
     "text": [
      "-1770.13661049059\n",
      "-1698.35391797\n",
      "1.1562473829307742\n",
      "5.039103127341861\n",
      "0.22300406924333263\n",
      "1.0402302720284493\n",
      "3.2228135043498214\n",
      "0.39168340008056746\n",
      "0.5760107480577652\n",
      "0.9659809518388802\n",
      "0.18553464455437152\n"
     ]
    }
   ],
   "source": [
    "import decayModelAlign\n",
    "\n",
    "import imp\n",
    "imp.reload(decayModelAlign)\n",
    "DMA = MAP(decayModelAlign)\n",
    "DMA.fit(method ='fmin', iterlim=100000, tol=.000001)\n",
    "print(DMA.AIC)\n",
    "print(DMA.BIC)\n",
    "\n",
    "print(DMA.attract_exponent.value)\n",
    "print(DMA.attract_length.value)\n",
    "print(DMA.attract_angle.value)\n",
    "\n",
    "print(DMA.align_exponent.value)\n",
    "print(DMA.align_length.value)\n",
    "print(DMA.align_angle.value)\n",
    "print(DMA.align_weight.value)\n",
    "\n",
    "print(DMA.rho_s.value)\n",
    "#print(DMA.rho_m.value) \n",
    "#print(DMA.rho_e.value) \n",
    "print(DMA.alpha.value) \n",
    "#print(DMA.beta.value)"
   ]
  },
  {
   "cell_type": "code",
   "execution_count": 74,
   "metadata": {
    "collapsed": false
   },
   "outputs": [
    {
     "name": "stdout",
     "output_type": "stream",
     "text": [
      "1134.8484053313125\n",
      "1069.7644759538293\n",
      "1230.7512686962639\n",
      "1029.1266241074875\n"
     ]
    }
   ],
   "source": [
    "\n",
    "DMA.align_length.value=2.62\n",
    "print(DMA.logp)\n",
    "print(DM.logp)\n",
    "print(CMA.logp)\n",
    "print(CM.logp)"
   ]
  },
  {
   "cell_type": "markdown",
   "metadata": {
    "collapsed": false
   },
   "source": [
    "Model 5\n",
    "--------\n",
    "\n",
    "Social vector is the average of relative positions to all neighbours within a network interaction range\n",
    "\n",
    "$I_D$ is the maximum number of neighbours\n",
    "\n",
    "$I_A$ is the maximum interaction angle either side of the centre of the animal\n",
    "\n"
   ]
  },
  {
   "cell_type": "code",
   "execution_count": 3,
   "metadata": {
    "collapsed": false
   },
   "outputs": [
    {
     "name": "stdout",
     "output_type": "stream",
     "text": [
      "==== 1 neighbour ====\n",
      "-2826.3178297751983\n",
      "-2786.31748152\n",
      "0.1723966372837825\n",
      "0.9647091371980868\n",
      "0.2919673321160433\n",
      "==== 3 neighbours ====\n",
      "-2536.465152775336\n",
      "-2496.46480452\n",
      "0.17999176234270675\n",
      "0.9599789429833315\n",
      "0.28920147292530457\n"
     ]
    },
    {
     "ename": "KeyboardInterrupt",
     "evalue": "",
     "output_type": "error",
     "traceback": [
      "\u001b[1;31m---------------------------------------------------------------------------\u001b[0m",
      "\u001b[1;31mKeyboardInterrupt\u001b[0m                         Traceback (most recent call last)",
      "\u001b[1;32m<ipython-input-3-9b416f01c1b7>\u001b[0m in \u001b[0;36m<module>\u001b[1;34m()\u001b[0m\n\u001b[0;32m     36\u001b[0m \u001b[1;33m\u001b[0m\u001b[0m\n\u001b[0;32m     37\u001b[0m \u001b[0mNM\u001b[0m \u001b[1;33m=\u001b[0m \u001b[0mMAP\u001b[0m\u001b[1;33m(\u001b[0m\u001b[0mnetworkModel\u001b[0m\u001b[1;33m)\u001b[0m\u001b[1;33m\u001b[0m\u001b[0m\n\u001b[1;32m---> 38\u001b[1;33m \u001b[0mNM\u001b[0m\u001b[1;33m.\u001b[0m\u001b[0mfit\u001b[0m\u001b[1;33m(\u001b[0m\u001b[0mmethod\u001b[0m \u001b[1;33m=\u001b[0m\u001b[1;34m'fmin'\u001b[0m\u001b[1;33m,\u001b[0m \u001b[0miterlim\u001b[0m\u001b[1;33m=\u001b[0m\u001b[1;36m100000\u001b[0m\u001b[1;33m,\u001b[0m \u001b[0mtol\u001b[0m\u001b[1;33m=\u001b[0m\u001b[1;36m.000001\u001b[0m\u001b[1;33m)\u001b[0m\u001b[1;33m\u001b[0m\u001b[0m\n\u001b[0m\u001b[0;32m     39\u001b[0m \u001b[0mprint\u001b[0m\u001b[1;33m(\u001b[0m\u001b[1;34m'==== 5 neighbours ===='\u001b[0m\u001b[1;33m)\u001b[0m\u001b[1;33m\u001b[0m\u001b[0m\n\u001b[0;32m     40\u001b[0m \u001b[0mprint\u001b[0m\u001b[1;33m(\u001b[0m\u001b[0mNM\u001b[0m\u001b[1;33m.\u001b[0m\u001b[0mAIC\u001b[0m\u001b[1;33m)\u001b[0m\u001b[1;33m\u001b[0m\u001b[0m\n",
      "\u001b[1;32m/usr/local/lib/python3.5/dist-packages/pymc/NormalApproximation.py\u001b[0m in \u001b[0;36mfit\u001b[1;34m(self, method, iterlim, tol, verbose, no_callback, **kwargs)\u001b[0m\n\u001b[0;32m    309\u001b[0m                      \u001b[0mmaxiter\u001b[0m\u001b[1;33m=\u001b[0m\u001b[0miterlim\u001b[0m\u001b[1;33m,\u001b[0m\u001b[1;33m\u001b[0m\u001b[0m\n\u001b[0;32m    310\u001b[0m                      \u001b[0mftol\u001b[0m\u001b[1;33m=\u001b[0m\u001b[0mtol\u001b[0m\u001b[1;33m,\u001b[0m\u001b[1;33m\u001b[0m\u001b[0m\n\u001b[1;32m--> 311\u001b[1;33m                      disp=verbose, **kwargs)\n\u001b[0m\u001b[0;32m    312\u001b[0m \u001b[1;33m\u001b[0m\u001b[0m\n\u001b[0;32m    313\u001b[0m         \u001b[1;32melif\u001b[0m \u001b[0mself\u001b[0m\u001b[1;33m.\u001b[0m\u001b[0mmethod\u001b[0m \u001b[1;33m==\u001b[0m \u001b[1;34m'fmin_powell'\u001b[0m\u001b[1;33m:\u001b[0m\u001b[1;33m\u001b[0m\u001b[0m\n",
      "\u001b[1;32m/usr/lib/python3/dist-packages/scipy/optimize/optimize.py\u001b[0m in \u001b[0;36mfmin\u001b[1;34m(func, x0, args, xtol, ftol, maxiter, maxfun, full_output, disp, retall, callback)\u001b[0m\n\u001b[0;32m    379\u001b[0m             'return_all': retall}\n\u001b[0;32m    380\u001b[0m \u001b[1;33m\u001b[0m\u001b[0m\n\u001b[1;32m--> 381\u001b[1;33m     \u001b[0mres\u001b[0m \u001b[1;33m=\u001b[0m \u001b[0m_minimize_neldermead\u001b[0m\u001b[1;33m(\u001b[0m\u001b[0mfunc\u001b[0m\u001b[1;33m,\u001b[0m \u001b[0mx0\u001b[0m\u001b[1;33m,\u001b[0m \u001b[0margs\u001b[0m\u001b[1;33m,\u001b[0m \u001b[0mcallback\u001b[0m\u001b[1;33m=\u001b[0m\u001b[0mcallback\u001b[0m\u001b[1;33m,\u001b[0m \u001b[1;33m**\u001b[0m\u001b[0mopts\u001b[0m\u001b[1;33m)\u001b[0m\u001b[1;33m\u001b[0m\u001b[0m\n\u001b[0m\u001b[0;32m    382\u001b[0m     \u001b[1;32mif\u001b[0m \u001b[0mfull_output\u001b[0m\u001b[1;33m:\u001b[0m\u001b[1;33m\u001b[0m\u001b[0m\n\u001b[0;32m    383\u001b[0m         \u001b[0mretlist\u001b[0m \u001b[1;33m=\u001b[0m \u001b[0mres\u001b[0m\u001b[1;33m[\u001b[0m\u001b[1;34m'x'\u001b[0m\u001b[1;33m]\u001b[0m\u001b[1;33m,\u001b[0m \u001b[0mres\u001b[0m\u001b[1;33m[\u001b[0m\u001b[1;34m'fun'\u001b[0m\u001b[1;33m]\u001b[0m\u001b[1;33m,\u001b[0m \u001b[0mres\u001b[0m\u001b[1;33m[\u001b[0m\u001b[1;34m'nit'\u001b[0m\u001b[1;33m]\u001b[0m\u001b[1;33m,\u001b[0m \u001b[0mres\u001b[0m\u001b[1;33m[\u001b[0m\u001b[1;34m'nfev'\u001b[0m\u001b[1;33m]\u001b[0m\u001b[1;33m,\u001b[0m \u001b[0mres\u001b[0m\u001b[1;33m[\u001b[0m\u001b[1;34m'status'\u001b[0m\u001b[1;33m]\u001b[0m\u001b[1;33m\u001b[0m\u001b[0m\n",
      "\u001b[1;32m/usr/lib/python3/dist-packages/scipy/optimize/optimize.py\u001b[0m in \u001b[0;36m_minimize_neldermead\u001b[1;34m(func, x0, args, callback, xtol, ftol, maxiter, maxfev, disp, return_all, **unknown_options)\u001b[0m\n\u001b[0;32m    465\u001b[0m         \u001b[0mxbar\u001b[0m \u001b[1;33m=\u001b[0m \u001b[0mnumpy\u001b[0m\u001b[1;33m.\u001b[0m\u001b[0madd\u001b[0m\u001b[1;33m.\u001b[0m\u001b[0mreduce\u001b[0m\u001b[1;33m(\u001b[0m\u001b[0msim\u001b[0m\u001b[1;33m[\u001b[0m\u001b[1;33m:\u001b[0m\u001b[1;33m-\u001b[0m\u001b[1;36m1\u001b[0m\u001b[1;33m]\u001b[0m\u001b[1;33m,\u001b[0m \u001b[1;36m0\u001b[0m\u001b[1;33m)\u001b[0m \u001b[1;33m/\u001b[0m \u001b[0mN\u001b[0m\u001b[1;33m\u001b[0m\u001b[0m\n\u001b[0;32m    466\u001b[0m         \u001b[0mxr\u001b[0m \u001b[1;33m=\u001b[0m \u001b[1;33m(\u001b[0m\u001b[1;36m1\u001b[0m \u001b[1;33m+\u001b[0m \u001b[0mrho\u001b[0m\u001b[1;33m)\u001b[0m \u001b[1;33m*\u001b[0m \u001b[0mxbar\u001b[0m \u001b[1;33m-\u001b[0m \u001b[0mrho\u001b[0m \u001b[1;33m*\u001b[0m \u001b[0msim\u001b[0m\u001b[1;33m[\u001b[0m\u001b[1;33m-\u001b[0m\u001b[1;36m1\u001b[0m\u001b[1;33m]\u001b[0m\u001b[1;33m\u001b[0m\u001b[0m\n\u001b[1;32m--> 467\u001b[1;33m         \u001b[0mfxr\u001b[0m \u001b[1;33m=\u001b[0m \u001b[0mfunc\u001b[0m\u001b[1;33m(\u001b[0m\u001b[0mxr\u001b[0m\u001b[1;33m)\u001b[0m\u001b[1;33m\u001b[0m\u001b[0m\n\u001b[0m\u001b[0;32m    468\u001b[0m         \u001b[0mdoshrink\u001b[0m \u001b[1;33m=\u001b[0m \u001b[1;36m0\u001b[0m\u001b[1;33m\u001b[0m\u001b[0m\n\u001b[0;32m    469\u001b[0m \u001b[1;33m\u001b[0m\u001b[0m\n",
      "\u001b[1;32m/usr/lib/python3/dist-packages/scipy/optimize/optimize.py\u001b[0m in \u001b[0;36mfunction_wrapper\u001b[1;34m(*wrapper_args)\u001b[0m\n\u001b[0;32m    287\u001b[0m     \u001b[1;32mdef\u001b[0m \u001b[0mfunction_wrapper\u001b[0m\u001b[1;33m(\u001b[0m\u001b[1;33m*\u001b[0m\u001b[0mwrapper_args\u001b[0m\u001b[1;33m)\u001b[0m\u001b[1;33m:\u001b[0m\u001b[1;33m\u001b[0m\u001b[0m\n\u001b[0;32m    288\u001b[0m         \u001b[0mncalls\u001b[0m\u001b[1;33m[\u001b[0m\u001b[1;36m0\u001b[0m\u001b[1;33m]\u001b[0m \u001b[1;33m+=\u001b[0m \u001b[1;36m1\u001b[0m\u001b[1;33m\u001b[0m\u001b[0m\n\u001b[1;32m--> 289\u001b[1;33m         \u001b[1;32mreturn\u001b[0m \u001b[0mfunction\u001b[0m\u001b[1;33m(\u001b[0m\u001b[1;33m*\u001b[0m\u001b[1;33m(\u001b[0m\u001b[0mwrapper_args\u001b[0m \u001b[1;33m+\u001b[0m \u001b[0margs\u001b[0m\u001b[1;33m)\u001b[0m\u001b[1;33m)\u001b[0m\u001b[1;33m\u001b[0m\u001b[0m\n\u001b[0m\u001b[0;32m    290\u001b[0m \u001b[1;33m\u001b[0m\u001b[0m\n\u001b[0;32m    291\u001b[0m     \u001b[1;32mreturn\u001b[0m \u001b[0mncalls\u001b[0m\u001b[1;33m,\u001b[0m \u001b[0mfunction_wrapper\u001b[0m\u001b[1;33m\u001b[0m\u001b[0m\n",
      "\u001b[1;32m/usr/local/lib/python3.5/dist-packages/pymc/NormalApproximation.py\u001b[0m in \u001b[0;36mfunc\u001b[1;34m(self, p)\u001b[0m\n\u001b[0;32m    384\u001b[0m         \u001b[0mself\u001b[0m\u001b[1;33m.\u001b[0m\u001b[0m_set_stochastics\u001b[0m\u001b[1;33m(\u001b[0m\u001b[0mp\u001b[0m\u001b[1;33m)\u001b[0m\u001b[1;33m\u001b[0m\u001b[0m\n\u001b[0;32m    385\u001b[0m         \u001b[1;32mtry\u001b[0m\u001b[1;33m:\u001b[0m\u001b[1;33m\u001b[0m\u001b[0m\n\u001b[1;32m--> 386\u001b[1;33m             \u001b[1;32mreturn\u001b[0m \u001b[1;33m-\u001b[0m\u001b[1;36m1.\u001b[0m \u001b[1;33m*\u001b[0m \u001b[0mself\u001b[0m\u001b[1;33m.\u001b[0m\u001b[0mlogp\u001b[0m\u001b[1;33m\u001b[0m\u001b[0m\n\u001b[0m\u001b[0;32m    387\u001b[0m         \u001b[1;32mexcept\u001b[0m \u001b[0mZeroProbability\u001b[0m\u001b[1;33m:\u001b[0m\u001b[1;33m\u001b[0m\u001b[0m\n\u001b[0;32m    388\u001b[0m             \u001b[1;32mreturn\u001b[0m \u001b[0mInf\u001b[0m\u001b[1;33m\u001b[0m\u001b[0m\n",
      "\u001b[1;32m/usr/local/lib/python3.5/dist-packages/pymc/Node.py\u001b[0m in \u001b[0;36m_get_logp\u001b[1;34m(self)\u001b[0m\n\u001b[0;32m    416\u001b[0m         \u001b[1;31m# Return total log-probabilities from all elements\u001b[0m\u001b[1;33m\u001b[0m\u001b[1;33m\u001b[0m\u001b[0m\n\u001b[0;32m    417\u001b[0m         return logp_of_set(\n\u001b[1;32m--> 418\u001b[1;33m             self.stochastics | self.potentials | self.observed_stochastics)\n\u001b[0m\u001b[0;32m    419\u001b[0m \u001b[1;33m\u001b[0m\u001b[0m\n\u001b[0;32m    420\u001b[0m     \u001b[1;31m# Define log-probability property\u001b[0m\u001b[1;33m\u001b[0m\u001b[1;33m\u001b[0m\u001b[0m\n",
      "\u001b[1;32m/usr/local/lib/python3.5/dist-packages/pymc/Node.py\u001b[0m in \u001b[0;36mlogp_of_set\u001b[1;34m(s)\u001b[0m\n\u001b[0;32m     37\u001b[0m         \u001b[1;32mreturn\u001b[0m \u001b[0mlogp\u001b[0m\u001b[1;33m\u001b[0m\u001b[0m\n\u001b[0;32m     38\u001b[0m     \u001b[1;32melse\u001b[0m\u001b[1;33m:\u001b[0m\u001b[1;33m\u001b[0m\u001b[0m\n\u001b[1;32m---> 39\u001b[1;33m         \u001b[0msix\u001b[0m\u001b[1;33m.\u001b[0m\u001b[0mreraise\u001b[0m\u001b[1;33m(\u001b[0m\u001b[1;33m*\u001b[0m\u001b[0mexc\u001b[0m\u001b[1;33m)\u001b[0m\u001b[1;33m\u001b[0m\u001b[0m\n\u001b[0m\u001b[0;32m     40\u001b[0m \u001b[1;33m\u001b[0m\u001b[0m\n\u001b[0;32m     41\u001b[0m \u001b[1;33m\u001b[0m\u001b[0m\n",
      "\u001b[1;32m/usr/local/lib/python3.5/dist-packages/pymc/six.py\u001b[0m in \u001b[0;36mreraise\u001b[1;34m(tp, value, tb)\u001b[0m\n\u001b[0;32m    617\u001b[0m         \u001b[1;32mif\u001b[0m \u001b[0mvalue\u001b[0m\u001b[1;33m.\u001b[0m\u001b[0m__traceback__\u001b[0m \u001b[1;32mis\u001b[0m \u001b[1;32mnot\u001b[0m \u001b[0mtb\u001b[0m\u001b[1;33m:\u001b[0m\u001b[1;33m\u001b[0m\u001b[0m\n\u001b[0;32m    618\u001b[0m             \u001b[1;32mraise\u001b[0m \u001b[0mvalue\u001b[0m\u001b[1;33m.\u001b[0m\u001b[0mwith_traceback\u001b[0m\u001b[1;33m(\u001b[0m\u001b[0mtb\u001b[0m\u001b[1;33m)\u001b[0m\u001b[1;33m\u001b[0m\u001b[0m\n\u001b[1;32m--> 619\u001b[1;33m         \u001b[1;32mraise\u001b[0m \u001b[0mvalue\u001b[0m\u001b[1;33m\u001b[0m\u001b[0m\n\u001b[0m\u001b[0;32m    620\u001b[0m \u001b[1;33m\u001b[0m\u001b[0m\n\u001b[0;32m    621\u001b[0m \u001b[1;32melse\u001b[0m\u001b[1;33m:\u001b[0m\u001b[1;33m\u001b[0m\u001b[0m\n",
      "\u001b[1;32m/usr/local/lib/python3.5/dist-packages/pymc/Node.py\u001b[0m in \u001b[0;36mlogp_of_set\u001b[1;34m(s)\u001b[0m\n\u001b[0;32m     28\u001b[0m     \u001b[1;32mfor\u001b[0m \u001b[0mobj\u001b[0m \u001b[1;32min\u001b[0m \u001b[0ms\u001b[0m\u001b[1;33m:\u001b[0m\u001b[1;33m\u001b[0m\u001b[0m\n\u001b[0;32m     29\u001b[0m         \u001b[1;32mtry\u001b[0m\u001b[1;33m:\u001b[0m\u001b[1;33m\u001b[0m\u001b[0m\n\u001b[1;32m---> 30\u001b[1;33m             \u001b[0mlogp\u001b[0m \u001b[1;33m+=\u001b[0m \u001b[0mobj\u001b[0m\u001b[1;33m.\u001b[0m\u001b[0mlogp\u001b[0m\u001b[1;33m\u001b[0m\u001b[0m\n\u001b[0m\u001b[0;32m     31\u001b[0m         \u001b[1;32mexcept\u001b[0m \u001b[0mZeroProbability\u001b[0m\u001b[1;33m:\u001b[0m\u001b[1;33m\u001b[0m\u001b[0m\n\u001b[0;32m     32\u001b[0m             \u001b[1;32mraise\u001b[0m\u001b[1;33m\u001b[0m\u001b[0m\n",
      "\u001b[1;32m/usr/local/lib/python3.5/dist-packages/pymc/PyMCObjects.py\u001b[0m in \u001b[0;36mget_logp\u001b[1;34m(self)\u001b[0m\n\u001b[0;32m    908\u001b[0m         \u001b[1;32mif\u001b[0m \u001b[0mself\u001b[0m\u001b[1;33m.\u001b[0m\u001b[0mverbose\u001b[0m \u001b[1;33m>\u001b[0m \u001b[1;36m0\u001b[0m\u001b[1;33m:\u001b[0m\u001b[1;33m\u001b[0m\u001b[0m\n\u001b[0;32m    909\u001b[0m             \u001b[0mprint_\u001b[0m\u001b[1;33m(\u001b[0m\u001b[1;34m'\\t'\u001b[0m \u001b[1;33m+\u001b[0m \u001b[0mself\u001b[0m\u001b[1;33m.\u001b[0m\u001b[0m__name__\u001b[0m \u001b[1;33m+\u001b[0m \u001b[1;34m': logp accessed.'\u001b[0m\u001b[1;33m)\u001b[0m\u001b[1;33m\u001b[0m\u001b[0m\n\u001b[1;32m--> 910\u001b[1;33m         \u001b[0mlogp\u001b[0m \u001b[1;33m=\u001b[0m \u001b[0mself\u001b[0m\u001b[1;33m.\u001b[0m\u001b[0m_logp\u001b[0m\u001b[1;33m.\u001b[0m\u001b[0mget\u001b[0m\u001b[1;33m(\u001b[0m\u001b[1;33m)\u001b[0m\u001b[1;33m\u001b[0m\u001b[0m\n\u001b[0m\u001b[0;32m    911\u001b[0m \u001b[1;33m\u001b[0m\u001b[0m\n\u001b[0;32m    912\u001b[0m         \u001b[1;32mtry\u001b[0m\u001b[1;33m:\u001b[0m\u001b[1;33m\u001b[0m\u001b[0m\n",
      "\u001b[1;32mLazyFunction.pyx\u001b[0m in \u001b[0;36mpymc.LazyFunction.LazyFunction.get (pymc/LazyFunction.c:2554)\u001b[1;34m()\u001b[0m\n",
      "\u001b[1;32m/usr/local/lib/python3.5/dist-packages/pymc/Container.py\u001b[0m in \u001b[0;36mget_value\u001b[1;34m(self)\u001b[0m\n\u001b[0;32m    539\u001b[0m     \u001b[1;32mdef\u001b[0m \u001b[0mget_value\u001b[0m\u001b[1;33m(\u001b[0m\u001b[0mself\u001b[0m\u001b[1;33m)\u001b[0m\u001b[1;33m:\u001b[0m\u001b[1;33m\u001b[0m\u001b[0m\n\u001b[0;32m    540\u001b[0m         \u001b[1;31m# DCValue(self)\u001b[0m\u001b[1;33m\u001b[0m\u001b[1;33m\u001b[0m\u001b[0m\n\u001b[1;32m--> 541\u001b[1;33m         \u001b[0mself\u001b[0m\u001b[1;33m.\u001b[0m\u001b[0mDCValue\u001b[0m\u001b[1;33m.\u001b[0m\u001b[0mrun\u001b[0m\u001b[1;33m(\u001b[0m\u001b[1;33m)\u001b[0m\u001b[1;33m\u001b[0m\u001b[0m\n\u001b[0m\u001b[0;32m    542\u001b[0m         \u001b[1;32mreturn\u001b[0m \u001b[0mself\u001b[0m\u001b[1;33m.\u001b[0m\u001b[0m_value\u001b[0m\u001b[1;33m\u001b[0m\u001b[0m\n\u001b[0;32m    543\u001b[0m \u001b[1;33m\u001b[0m\u001b[0m\n",
      "\u001b[1;32mContainer_values.pyx\u001b[0m in \u001b[0;36mpymc.Container_values.DCValue.run (pymc/Container_values.c:1226)\u001b[1;34m()\u001b[0m\n",
      "\u001b[1;32m/usr/local/lib/python3.5/dist-packages/pymc/PyMCObjects.py\u001b[0m in \u001b[0;36mget_value\u001b[1;34m(self)\u001b[0m\n\u001b[0;32m    466\u001b[0m         \u001b[1;32mif\u001b[0m \u001b[0mself\u001b[0m\u001b[1;33m.\u001b[0m\u001b[0mverbose\u001b[0m \u001b[1;33m>\u001b[0m \u001b[1;36m1\u001b[0m\u001b[1;33m:\u001b[0m\u001b[1;33m\u001b[0m\u001b[0m\n\u001b[0;32m    467\u001b[0m             \u001b[0mprint_\u001b[0m\u001b[1;33m(\u001b[0m\u001b[1;34m'\\t'\u001b[0m \u001b[1;33m+\u001b[0m \u001b[0mself\u001b[0m\u001b[1;33m.\u001b[0m\u001b[0m__name__\u001b[0m \u001b[1;33m+\u001b[0m \u001b[1;34m': value accessed.'\u001b[0m\u001b[1;33m)\u001b[0m\u001b[1;33m\u001b[0m\u001b[0m\n\u001b[1;32m--> 468\u001b[1;33m         \u001b[0m_value\u001b[0m \u001b[1;33m=\u001b[0m \u001b[0mself\u001b[0m\u001b[1;33m.\u001b[0m\u001b[0m_value\u001b[0m\u001b[1;33m.\u001b[0m\u001b[0mget\u001b[0m\u001b[1;33m(\u001b[0m\u001b[1;33m)\u001b[0m\u001b[1;33m\u001b[0m\u001b[0m\n\u001b[0m\u001b[0;32m    469\u001b[0m         \u001b[1;32mif\u001b[0m \u001b[0misinstance\u001b[0m\u001b[1;33m(\u001b[0m\u001b[0m_value\u001b[0m\u001b[1;33m,\u001b[0m \u001b[0mndarray\u001b[0m\u001b[1;33m)\u001b[0m\u001b[1;33m:\u001b[0m\u001b[1;33m\u001b[0m\u001b[0m\n\u001b[0;32m    470\u001b[0m             \u001b[0m_value\u001b[0m\u001b[1;33m.\u001b[0m\u001b[0mflags\u001b[0m\u001b[1;33m[\u001b[0m\u001b[1;34m'W'\u001b[0m\u001b[1;33m]\u001b[0m \u001b[1;33m=\u001b[0m \u001b[1;32mFalse\u001b[0m\u001b[1;33m\u001b[0m\u001b[0m\n",
      "\u001b[1;32mLazyFunction.pyx\u001b[0m in \u001b[0;36mpymc.LazyFunction.LazyFunction.get (pymc/LazyFunction.c:2568)\u001b[1;34m()\u001b[0m\n",
      "\u001b[1;32m/home/ctorney/workspace/dolphinUnion/analysis/movement/model_selection/networkModel.py\u001b[0m in \u001b[0;36msocial_vector\u001b[1;34m(il, ia, ig)\u001b[0m\n\u001b[0;32m     47\u001b[0m     \u001b[0mn_weights\u001b[0m\u001b[1;33m[\u001b[0m\u001b[1;33m(\u001b[0m\u001b[0mneighbours\u001b[0m\u001b[1;33m[\u001b[0m\u001b[1;33m:\u001b[0m\u001b[1;33m,\u001b[0m\u001b[1;33m:\u001b[0m\u001b[1;33m,\u001b[0m\u001b[1;36m0\u001b[0m\u001b[1;33m]\u001b[0m\u001b[1;33m<=\u001b[0m\u001b[0mig\u001b[0m\u001b[1;33m)\u001b[0m\u001b[1;33m]\u001b[0m\u001b[1;33m=\u001b[0m\u001b[1;36m0.0\u001b[0m\u001b[1;33m\u001b[0m\u001b[0m\n\u001b[0;32m     48\u001b[0m \u001b[1;33m\u001b[0m\u001b[0m\n\u001b[1;32m---> 49\u001b[1;33m     \u001b[0mxsv\u001b[0m \u001b[1;33m=\u001b[0m \u001b[0mnp\u001b[0m\u001b[1;33m.\u001b[0m\u001b[0msum\u001b[0m\u001b[1;33m(\u001b[0m\u001b[0mnp\u001b[0m\u001b[1;33m.\u001b[0m\u001b[0mcos\u001b[0m\u001b[1;33m(\u001b[0m\u001b[0mneighbours\u001b[0m\u001b[1;33m[\u001b[0m\u001b[1;33m:\u001b[0m\u001b[1;33m,\u001b[0m\u001b[1;33m:\u001b[0m\u001b[1;33m,\u001b[0m\u001b[1;36m1\u001b[0m\u001b[1;33m]\u001b[0m\u001b[1;33m)\u001b[0m\u001b[1;33m*\u001b[0m\u001b[0mn_weights\u001b[0m\u001b[1;33m,\u001b[0m\u001b[1;36m1\u001b[0m\u001b[1;33m)\u001b[0m\u001b[1;33m\u001b[0m\u001b[0m\n\u001b[0m\u001b[0;32m     50\u001b[0m     \u001b[0mysv\u001b[0m \u001b[1;33m=\u001b[0m \u001b[0mnp\u001b[0m\u001b[1;33m.\u001b[0m\u001b[0msum\u001b[0m\u001b[1;33m(\u001b[0m\u001b[0mnp\u001b[0m\u001b[1;33m.\u001b[0m\u001b[0msin\u001b[0m\u001b[1;33m(\u001b[0m\u001b[0mneighbours\u001b[0m\u001b[1;33m[\u001b[0m\u001b[1;33m:\u001b[0m\u001b[1;33m,\u001b[0m\u001b[1;33m:\u001b[0m\u001b[1;33m,\u001b[0m\u001b[1;36m1\u001b[0m\u001b[1;33m]\u001b[0m\u001b[1;33m)\u001b[0m\u001b[1;33m*\u001b[0m\u001b[0mn_weights\u001b[0m\u001b[1;33m,\u001b[0m\u001b[1;36m1\u001b[0m\u001b[1;33m)\u001b[0m\u001b[1;33m\u001b[0m\u001b[0m\n\u001b[0;32m     51\u001b[0m \u001b[1;33m\u001b[0m\u001b[0m\n",
      "\u001b[1;31mKeyboardInterrupt\u001b[0m: "
     ]
    }
   ],
   "source": [
    "import networkModel\n",
    "\n",
    "networkModel.netcount=1\n",
    "\n",
    "NM = MAP(networkModel)\n",
    "NM.fit(method ='fmin', iterlim=100000, tol=.000001)\n",
    "print('==== 1 neighbour ====')\n",
    "print(NM.AIC)\n",
    "print(NM.BIC)\n",
    "\n",
    "print(NM.interaction_angle.value)\n",
    "\n",
    "print(NM.rho_s.value)\n",
    "#print(NM.rho_m.value) \n",
    "#print(NM.rho_e.value) \n",
    "print(NM.alpha.value) \n",
    "#print(NM.beta.value)\n",
    "\n",
    "networkModel.netcount=3\n",
    "\n",
    "NM = MAP(networkModel)\n",
    "NM.fit(method ='fmin', iterlim=100000, tol=.000001)\n",
    "print('==== 3 neighbours ====')\n",
    "print(NM.AIC)\n",
    "print(NM.BIC)\n",
    "\n",
    "print(NM.interaction_angle.value)\n",
    "\n",
    "print(NM.rho_s.value)\n",
    "#print(NM.rho_m.value) \n",
    "#print(NM.rho_e.value) \n",
    "print(NM.alpha.value) \n",
    "#print(NM.beta.value)\n",
    "\n",
    "networkModel.netcount=5\n",
    "\n",
    "NM = MAP(networkModel)\n",
    "NM.fit(method ='fmin', iterlim=100000, tol=.000001)\n",
    "print('==== 5 neighbours ====')\n",
    "print(NM.AIC)\n",
    "print(NM.BIC)\n",
    "\n",
    "print(NM.interaction_angle.value)\n",
    "\n",
    "print(NM.rho_s.value)\n",
    "#print(NM.rho_m.value) \n",
    "#print(NM.rho_e.value) \n",
    "print(NM.alpha.value) \n",
    "#print(NM.beta.value)\n",
    "\n",
    "networkModel.netcount=7\n",
    "\n",
    "NM = MAP(networkModel)\n",
    "NM.fit(method ='fmin', iterlim=100000, tol=.000001)\n",
    "print('==== 7 neighbours ====')\n",
    "print(NM.AIC)\n",
    "print(NM.BIC)\n",
    "\n",
    "print(NM.interaction_angle.value)\n",
    "\n",
    "print(NM.rho_s.value)\n",
    "#print(NM.rho_m.value) \n",
    "#print(NM.rho_e.value) \n",
    "print(NM.alpha.value) \n",
    "#print(NM.beta.value)\n",
    "\n",
    "networkModel.netcount=9\n",
    "\n",
    "NM = MAP(networkModel)\n",
    "NM.fit(method ='fmin', iterlim=100000, tol=.000001)\n",
    "print('==== 9 neighbours ====')\n",
    "print(NM.AIC)\n",
    "print(NM.BIC)\n",
    "\n",
    "print(NM.interaction_angle.value)\n",
    "\n",
    "print(NM.rho_s.value)\n",
    "#print(NM.rho_m.value) \n",
    "#print(NM.rho_e.value) \n",
    "print(NM.alpha.value) \n",
    "#print(NM.beta.value)"
   ]
  },
  {
   "cell_type": "markdown",
   "metadata": {
    "collapsed": true
   },
   "source": [
    "Model 6\n",
    "--------\n",
    "\n",
    "Social vector is the average of relative positions to all neighbours and their headings within a network interaction range\n",
    "\n",
    "$I_D$ is the maximum number of neighbours\n",
    "\n",
    "$I_A$ is the maximum interaction angle either side of the centre of the animal\n",
    "\n"
   ]
  },
  {
   "cell_type": "code",
   "execution_count": null,
   "metadata": {
    "collapsed": false
   },
   "outputs": [],
   "source": [
    "import networkModelAlign\n",
    "\n",
    "networkModelAlign.netcount=1\n",
    "\n",
    "NM = MAP(networkModelAlign)\n",
    "NM.fit(method ='fmin', iterlim=100000, tol=.000001)\n",
    "print('==== 1 neighbour ====')\n",
    "print(NM.AIC)\n",
    "print(NM.BIC)\n",
    "\n",
    "print(NM.interaction_angle.value)\n",
    "print(NM.align_weight.value)\n",
    "\n",
    "print(NM.rho_s.value)\n",
    "print(NM.rho_m.value) \n",
    "print(NM.rho_e.value) \n",
    "print(NM.alpha.value) \n",
    "print(NM.beta.value)\n",
    "\n",
    "networkModelAlign.netcount=3\n",
    "\n",
    "NM = MAP(networkModelAlign)\n",
    "NM.fit(method ='fmin', iterlim=100000, tol=.000001)\n",
    "print('==== 3 neighbours ====')\n",
    "print(NM.AIC)\n",
    "print(NM.BIC)\n",
    "\n",
    "print(NM.interaction_angle.value)\n",
    "print(NM.align_weight.value)\n",
    "\n",
    "print(NM.rho_s.value)\n",
    "print(NM.rho_m.value) \n",
    "print(NM.rho_e.value) \n",
    "print(NM.alpha.value) \n",
    "print(NM.beta.value)\n",
    "\n",
    "networkModelAlign.netcount=5\n",
    "\n",
    "NM = MAP(networkModelAlign)\n",
    "NM.fit(method ='fmin', iterlim=100000, tol=.000001)\n",
    "print('==== 5 neighbours ====')\n",
    "print(NM.AIC)\n",
    "print(NM.BIC)\n",
    "\n",
    "print(NM.interaction_angle.value)\n",
    "print(NM.align_weight.value)\n",
    "\n",
    "print(NM.rho_s.value)\n",
    "print(NM.rho_m.value) \n",
    "print(NM.rho_e.value) \n",
    "print(NM.alpha.value) \n",
    "print(NM.beta.value)\n",
    "\n",
    "networkModelAlign.netcount=7\n",
    "\n",
    "NM = MAP(networkModelAlign)\n",
    "NM.fit(method ='fmin', iterlim=100000, tol=.000001)\n",
    "print('==== 7 neighbours ====')\n",
    "print(NM.AIC)\n",
    "print(NM.BIC)\n",
    "\n",
    "print(NM.interaction_angle.value)\n",
    "print(NM.align_weight.value)\n",
    "\n",
    "print(NM.rho_s.value)\n",
    "print(NM.rho_m.value) \n",
    "print(NM.rho_e.value) \n",
    "print(NM.alpha.value) \n",
    "print(NM.beta.value)\n",
    "\n",
    "networkModelAlign.netcount=9\n",
    "\n",
    "NM = MAP(networkModelAlign)\n",
    "NM.fit(method ='fmin', iterlim=100000, tol=.000001)\n",
    "print('==== 9 neighbours ====')\n",
    "print(NM.AIC)\n",
    "print(NM.BIC)\n",
    "\n",
    "print(NM.interaction_angle.value)\n",
    "print(NM.align_weight.value)\n",
    "\n",
    "print(NM.rho_s.value)\n",
    "print(NM.rho_m.value) \n",
    "print(NM.rho_e.value) \n",
    "print(NM.alpha.value) \n",
    "print(NM.beta.value)"
   ]
  },
  {
   "cell_type": "code",
   "execution_count": null,
   "metadata": {
    "collapsed": false
   },
   "outputs": [],
   "source": [
    "print(CM.rep_len.value)"
   ]
  },
  {
   "cell_type": "code",
   "execution_count": null,
   "metadata": {
    "collapsed": true
   },
   "outputs": [],
   "source": []
  }
 ],
 "metadata": {
  "kernelspec": {
   "display_name": "Python 3",
   "language": "python",
   "name": "python3"
  },
  "language_info": {
   "codemirror_mode": {
    "name": "ipython",
    "version": 3
   },
   "file_extension": ".py",
   "mimetype": "text/x-python",
   "name": "python",
   "nbconvert_exporter": "python",
   "pygments_lexer": "ipython3",
   "version": "3.5.0+"
  }
 },
 "nbformat": 4,
 "nbformat_minor": 0
}
